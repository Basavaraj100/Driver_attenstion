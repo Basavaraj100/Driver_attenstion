{
 "cells": [
  {
   "cell_type": "markdown",
   "id": "adee4597",
   "metadata": {},
   "source": [
    "# Step 1: Data Preparation"
   ]
  },
  {
   "cell_type": "code",
   "execution_count": 1,
   "id": "81fdc73f",
   "metadata": {},
   "outputs": [],
   "source": [
    "\n",
    "import os\n",
    "import shutil\n",
    "\n",
    "# Define paths to your dataset folders\n",
    "dataset_dir = r'D:\\My_learning\\CNN_Project\\Driver_atention\\Data\\train'\n",
    "train_dir = r'train_data'\n",
    "val_dir = r'test_data'\n",
    "\n",
    "# Ensure the directory structure for train and validation sets\n",
    "os.makedirs(train_dir, exist_ok=True)\n",
    "os.makedirs(val_dir, exist_ok=True)\n",
    "\n",
    "# Create train/validation set with class representation maintained\n",
    "for class_name in ['c0', 'c1', 'c2', 'c3', 'c4', 'c5', 'c6', 'c7', 'c8', 'c9']:\n",
    "    class_path = os.path.join(dataset_dir, class_name)\n",
    "    train_class_path = os.path.join(train_dir, class_name)\n",
    "    val_class_path = os.path.join(val_dir, class_name)\n",
    "    os.makedirs(train_class_path, exist_ok=True)\n",
    "    os.makedirs(val_class_path, exist_ok=True)\n",
    "    \n",
    "    class_files = os.listdir(class_path)\n",
    "    num_train_samples = int(len(class_files) * 0.8)  # 80% for training, 20% for validation\n",
    "    train_files = class_files[:num_train_samples]\n",
    "    val_files = class_files[num_train_samples:]\n",
    "    \n",
    "    for file in train_files:\n",
    "        shutil.copy(os.path.join(class_path, file), os.path.join(train_class_path, file))\n",
    "    \n",
    "    for file in val_files:\n",
    "        shutil.copy(os.path.join(class_path, file), os.path.join(val_class_path, file))"
   ]
  },
  {
   "cell_type": "code",
   "execution_count": 2,
   "id": "bb24d3e2",
   "metadata": {},
   "outputs": [],
   "source": [
    "# BAsic info of images"
   ]
  },
  {
   "cell_type": "code",
   "execution_count": 3,
   "id": "9d556ff2",
   "metadata": {},
   "outputs": [
    {
     "name": "stdout",
     "output_type": "stream",
     "text": [
      "Image format: JPEG\n",
      "Image size: (640, 480)\n",
      "Image mode: RGB\n"
     ]
    }
   ],
   "source": [
    "from PIL import Image\n",
    "\n",
    "# Replace 'image_path.jpg' with the actual path to your image file.\n",
    "image_path = r'D:\\My_learning\\CNN_Project\\Driver_atention\\Data\\train\\c0\\img_34.jpg'\n",
    "\n",
    "# Open the image using PIL\n",
    "try:\n",
    "    img = Image.open(image_path)\n",
    "    \n",
    "    # Display basic information about the image\n",
    "    print(\"Image format:\", img.format)\n",
    "    print(\"Image size:\", img.size)\n",
    "    print(\"Image mode:\", img.mode)\n",
    "    \n",
    "    # Do further processing or display the image as needed\n",
    "    \n",
    "except FileNotFoundError:\n",
    "    print(\"Image file not found.\")\n",
    "except Exception as e:\n",
    "    print(\"An error occurred while processing the image:\", e)"
   ]
  },
  {
   "cell_type": "code",
   "execution_count": 4,
   "id": "aa0b37a5",
   "metadata": {},
   "outputs": [],
   "source": [
    "import numpy as np\n",
    "imag_arr=np.array(img)"
   ]
  },
  {
   "cell_type": "code",
   "execution_count": 5,
   "id": "2b5854f8",
   "metadata": {},
   "outputs": [
    {
     "data": {
      "text/plain": [
       "(0, 255)"
      ]
     },
     "execution_count": 5,
     "metadata": {},
     "output_type": "execute_result"
    }
   ],
   "source": [
    "imag_arr.min(),imag_arr.max(),"
   ]
  },
  {
   "cell_type": "markdown",
   "id": "c52810aa",
   "metadata": {},
   "source": [
    "# 2) IMAGE PREPROCESSING"
   ]
  },
  {
   "cell_type": "code",
   "execution_count": 6,
   "id": "e6d59bb4",
   "metadata": {},
   "outputs": [],
   "source": [
    "# !pip install tensorflow"
   ]
  },
  {
   "cell_type": "code",
   "execution_count": 7,
   "id": "933f38bd",
   "metadata": {},
   "outputs": [],
   "source": [
    "import tensorflow as tf"
   ]
  },
  {
   "cell_type": "code",
   "execution_count": 8,
   "id": "31323581",
   "metadata": {},
   "outputs": [
    {
     "name": "stdout",
     "output_type": "stream",
     "text": [
      "Found 17934 images belonging to 10 classes.\n",
      "Found 4490 images belonging to 10 classes.\n"
     ]
    }
   ],
   "source": [
    "import os\n",
    "import numpy as np\n",
    "import tensorflow as tf\n",
    "from tensorflow.keras import layers, models, optimizers\n",
    "from tensorflow.keras.preprocessing.image import ImageDataGenerator\n",
    "\n",
    "# Constants\n",
    "img_height, img_width = 640, 480\n",
    "num_classes = 10\n",
    "batch_size = 32\n",
    "epochs = 10\n",
    "\n",
    "# Paths\n",
    "train_dir = r'train_data'\n",
    "val_dir = r'test_data'\n",
    "model_save_path = r'model/model.h5'\n",
    "\n",
    "# Data Augmentation for Training Set\n",
    "train_datagen = ImageDataGenerator(\n",
    "    rescale=1.0/255.0,\n",
    "    shear_range=0.2,\n",
    "    zoom_range=0.2,\n",
    "    horizontal_flip=True\n",
    ")\n",
    "\n",
    "# Validation Data Generator\n",
    "val_datagen = ImageDataGenerator(rescale=1.0/255.0)\n",
    "\n",
    "# Load and Prepare Training Data\n",
    "train_generator = train_datagen.flow_from_directory(\n",
    "    train_dir,\n",
    "    target_size=(img_height, img_width),\n",
    "    batch_size=batch_size,\n",
    "    class_mode='categorical'\n",
    ")\n",
    "\n",
    "# Load and Prepare Validation Data\n",
    "val_generator = val_datagen.flow_from_directory(\n",
    "    val_dir,\n",
    "    target_size=(img_height, img_width),\n",
    "    batch_size=batch_size,\n",
    "    class_mode='categorical'\n",
    ")\n",
    "\n"
   ]
  },
  {
   "cell_type": "code",
   "execution_count": 9,
   "id": "6cd7968c",
   "metadata": {},
   "outputs": [],
   "source": [
    "# Model Creation\n",
    "model = models.Sequential([\n",
    "    layers.Conv2D(32, (3, 3), activation='relu', input_shape=(img_height, img_width, 3)),\n",
    "    layers.MaxPooling2D((2, 2)),\n",
    "    layers.Conv2D(64, (3, 3), activation='relu'),\n",
    "    layers.MaxPooling2D((2, 2)),\n",
    "    layers.Conv2D(128, (3, 3), activation='relu'),\n",
    "    layers.MaxPooling2D((2, 2)),\n",
    "    layers.Flatten(),\n",
    "    layers.Dense(256, activation='relu'),\n",
    "    layers.Dropout(0.5),\n",
    "    layers.Dense(num_classes, activation='softmax')\n",
    "])\n",
    "\n"
   ]
  },
  {
   "cell_type": "code",
   "execution_count": 10,
   "id": "5971d635",
   "metadata": {},
   "outputs": [],
   "source": [
    "# Compile the model\n",
    "model.compile(optimizer=optimizers.Adam(),\n",
    "              loss='categorical_crossentropy',\n",
    "              metrics=['accuracy'])\n"
   ]
  },
  {
   "cell_type": "code",
   "execution_count": 11,
   "id": "08958d15",
   "metadata": {},
   "outputs": [
    {
     "name": "stdout",
     "output_type": "stream",
     "text": [
      "Epoch 1/10\n",
      "560/560 [==============================] - 2895s 5s/step - loss: 2.1745 - accuracy: 0.2759 - val_loss: 1.1170 - val_accuracy: 0.6654\n",
      "Epoch 2/10\n",
      "560/560 [==============================] - 2952s 5s/step - loss: 1.0897 - accuracy: 0.6369 - val_loss: 0.5270 - val_accuracy: 0.8629\n",
      "Epoch 3/10\n",
      "560/560 [==============================] - 3504s 6s/step - loss: 0.7249 - accuracy: 0.7590 - val_loss: 0.2571 - val_accuracy: 0.9259\n",
      "Epoch 4/10\n",
      "560/560 [==============================] - 3276s 6s/step - loss: 0.5452 - accuracy: 0.8226 - val_loss: 0.1936 - val_accuracy: 0.9507\n",
      "Epoch 5/10\n",
      "560/560 [==============================] - 3140s 6s/step - loss: 0.4428 - accuracy: 0.8571 - val_loss: 0.1405 - val_accuracy: 0.9676\n",
      "Epoch 6/10\n",
      "560/560 [==============================] - 3174s 6s/step - loss: 0.3749 - accuracy: 0.8767 - val_loss: 0.1252 - val_accuracy: 0.9670\n",
      "Epoch 7/10\n",
      "560/560 [==============================] - 3118s 6s/step - loss: 0.3207 - accuracy: 0.8984 - val_loss: 0.1206 - val_accuracy: 0.9672\n",
      "Epoch 8/10\n",
      "560/560 [==============================] - 3057s 5s/step - loss: 0.2911 - accuracy: 0.9049 - val_loss: 0.0902 - val_accuracy: 0.9759\n",
      "Epoch 9/10\n",
      "560/560 [==============================] - 3031s 5s/step - loss: 0.2699 - accuracy: 0.9172 - val_loss: 0.0875 - val_accuracy: 0.9761\n",
      "Epoch 10/10\n",
      "560/560 [==============================] - 3777s 7s/step - loss: 0.2379 - accuracy: 0.9241 - val_loss: 0.0865 - val_accuracy: 0.9788\n"
     ]
    },
    {
     "data": {
      "text/plain": [
       "<keras.callbacks.History at 0x2e6357a9a08>"
      ]
     },
     "execution_count": 11,
     "metadata": {},
     "output_type": "execute_result"
    }
   ],
   "source": [
    "\n",
    "# Model Training\n",
    "model.fit(\n",
    "    train_generator,\n",
    "    steps_per_epoch=train_generator.samples // batch_size,\n",
    "    epochs=epochs,\n",
    "    validation_data=val_generator,\n",
    "    validation_steps=val_generator.samples // batch_size\n",
    ")\n",
    "                                                "
   ]
  },
  {
   "cell_type": "code",
   "execution_count": 12,
   "id": "578cdf7a",
   "metadata": {},
   "outputs": [
    {
     "name": "stdout",
     "output_type": "stream",
     "text": [
      "Model training and saving complete.\n"
     ]
    }
   ],
   "source": [
    "\n",
    "# Save the trained model\n",
    "model.save('Driver_attention_model.h5')\n",
    "\n",
    "print(\"Model training and saving complete.\")"
   ]
  },
  {
   "cell_type": "markdown",
   "id": "eebbf60a",
   "metadata": {},
   "source": [
    "### Model validation"
   ]
  },
  {
   "cell_type": "code",
   "execution_count": 14,
   "id": "7e46345e",
   "metadata": {},
   "outputs": [
    {
     "name": "stdout",
     "output_type": "stream",
     "text": [
      "Found 4490 images belonging to 10 classes.\n",
      "141/141 [==============================] - 153s 1s/step\n",
      "Accuracy: 0.9788\n",
      "Classification Report:\n",
      "               precision    recall  f1-score   support\n",
      "\n",
      "          c0       0.99      0.98      0.99       498\n",
      "          c1       0.98      1.00      0.99       454\n",
      "          c2       1.00      0.98      0.99       464\n",
      "          c3       0.99      0.99      0.99       470\n",
      "          c4       0.98      0.99      0.98       466\n",
      "          c5       1.00      0.98      0.99       463\n",
      "          c6       0.98      0.97      0.98       465\n",
      "          c7       0.99      0.99      0.99       401\n",
      "          c8       0.90      0.96      0.93       383\n",
      "          c9       0.98      0.95      0.96       426\n",
      "\n",
      "    accuracy                           0.98      4490\n",
      "   macro avg       0.98      0.98      0.98      4490\n",
      "weighted avg       0.98      0.98      0.98      4490\n",
      "\n",
      "Confusion Matrix:\n",
      " [[488   1   0   1   2   0   0   0   0   6]\n",
      " [  0 453   0   1   0   0   0   0   0   0]\n",
      " [  0   3 455   1   1   0   0   0   4   0]\n",
      " [  0   1   0 466   2   0   1   0   0   0]\n",
      " [  0   1   0   1 460   0   2   0   2   0]\n",
      " [  2   1   0   0   0 452   0   0   7   1]\n",
      " [  0   3   0   0   1   0 453   0   8   0]\n",
      " [  0   0   0   0   0   0   0 396   5   0]\n",
      " [  0   0   2   1   4   0   4   3 369   0]\n",
      " [  1   0   0   0   0   1   4   1  16 403]]\n"
     ]
    }
   ],
   "source": [
    "import os\n",
    "import numpy as np\n",
    "from keras.preprocessing.image import ImageDataGenerator\n",
    "from keras.models import load_model\n",
    "from sklearn.metrics import classification_report, confusion_matrix\n",
    "\n",
    "# Path to the directory where you split your dataset\n",
    "base_dir = 'path/to/split/dataset'\n",
    "\n",
    "# Path to the saved trained model\n",
    "model_path = 'Driver_attention_model.h5'\n",
    "\n",
    "# Parameters\n",
    "batch_size = 32\n",
    "\n",
    "# Load the trained model\n",
    "model = load_model(model_path)\n",
    "\n",
    "# Create data generators for validation set\n",
    "validation_datagen = ImageDataGenerator(rescale=1.0/255)\n",
    "validation_generator = validation_datagen.flow_from_directory(\n",
    "    os.path.join('D:\\My_learning\\CNN_Project\\Driver_atention', 'test_data'),\n",
    "    target_size=(img_height, img_width),  # Adjust based on your model input size\n",
    "    batch_size=batch_size,\n",
    "    class_mode='categorical',\n",
    "    shuffle=False\n",
    ")\n",
    "\n",
    "# Get true labels from the generator\n",
    "true_labels = validation_generator.classes\n",
    "\n",
    "# Generate predictions using the model\n",
    "predictions = model.predict(validation_generator, steps=len(validation_generator), verbose=1)\n",
    "predicted_labels = np.argmax(predictions, axis=1)\n",
    "\n",
    "# Calculate metrics\n",
    "accuracy = np.sum(predicted_labels == true_labels) / len(true_labels)\n",
    "report = classification_report(true_labels, predicted_labels, target_names=validation_generator.class_indices.keys())\n",
    "conf_matrix = confusion_matrix(true_labels, predicted_labels)\n",
    "\n",
    "# Print results\n",
    "print(f\"Accuracy: {accuracy:.4f}\")\n",
    "print(\"Classification Report:\\n\", report)\n",
    "print(\"Confusion Matrix:\\n\", conf_matrix)"
   ]
  },
  {
   "cell_type": "markdown",
   "id": "77924b8c",
   "metadata": {},
   "source": [
    "### Prediction on the test Out of tiem data "
   ]
  },
  {
   "cell_type": "code",
   "execution_count": 15,
   "id": "e71f998f",
   "metadata": {},
   "outputs": [
    {
     "name": "stdout",
     "output_type": "stream",
     "text": [
      "Predictions saved to predictions.xlsx\n"
     ]
    }
   ],
   "source": [
    "import os\n",
    "import numpy as np\n",
    "import pandas as pd\n",
    "from keras.preprocessing import image\n",
    "from keras.models import load_model\n",
    "\n",
    "# Path to the directory containing the images you want to predict\n",
    "image_dir = 'D:\\My_learning\\CNN_Project\\Driver_atention\\Data\\OOT'\n",
    "\n",
    "# Path to the saved trained model\n",
    "model_path = r'D:\\My_learning\\CNN_Project\\Driver_atention\\Driver_attention_model.h5'\n",
    "\n",
    "# Load the trained model\n",
    "model = load_model(model_path)\n",
    "\n",
    "# List of class labels\n",
    "class_labels = ['c0', 'c1', 'c2', 'c3', 'c4', 'c5', 'c6', 'c7', 'c8', 'c9']\n",
    "\n",
    "# Initialize lists to store image file names and prediction values\n",
    "file_names = []\n",
    "predictions = []\n",
    "\n",
    "# Iterate over the images in the directory\n",
    "for img_file in os.listdir(image_dir):\n",
    "    img_path = os.path.join(image_dir, img_file)\n",
    "    img = image.load_img(img_path, target_size=(img_height, img_width))  # Adjust based on your model input size\n",
    "    img = image.img_to_array(img)\n",
    "    img = np.expand_dims(img, axis=0)\n",
    "    img /= 255.0  # Normalize pixel values\n",
    "\n",
    "    # Make predictions\n",
    "    prediction = model.predict(img)\n",
    "    predicted_class = class_labels[np.argmax(prediction)]\n",
    "\n",
    "    # Append image file name and prediction value\n",
    "    file_names.append(img_file)\n",
    "    predictions.append(predicted_class)\n",
    "\n",
    "# Create a DataFrame to store the results\n",
    "results_df = pd.DataFrame({'Image File': file_names, 'Prediction': predictions})\n",
    "\n",
    "# Write the DataFrame to an Excel file\n",
    "output_excel = 'predictions.xlsx'\n",
    "results_df.to_excel(output_excel, index=False)\n",
    "\n",
    "print(f\"Predictions saved to {output_excel}\")"
   ]
  },
  {
   "cell_type": "code",
   "execution_count": null,
   "id": "64e36703",
   "metadata": {},
   "outputs": [],
   "source": []
  }
 ],
 "metadata": {
  "kernelspec": {
   "display_name": "Python 3 (ipykernel)",
   "language": "python",
   "name": "python3"
  },
  "language_info": {
   "codemirror_mode": {
    "name": "ipython",
    "version": 3
   },
   "file_extension": ".py",
   "mimetype": "text/x-python",
   "name": "python",
   "nbconvert_exporter": "python",
   "pygments_lexer": "ipython3",
   "version": "3.7.13"
  }
 },
 "nbformat": 4,
 "nbformat_minor": 5
}
